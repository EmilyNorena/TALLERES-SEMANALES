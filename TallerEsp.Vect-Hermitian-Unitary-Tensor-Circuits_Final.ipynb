{
  "metadata": {
    "kernelspec": {
      "name": "python",
      "display_name": "Python (Pyodide)",
      "language": "python"
    },
    "language_info": {
      "codemirror_mode": {
        "name": "python",
        "version": 3
      },
      "file_extension": ".py",
      "mimetype": "text/x-python",
      "name": "python",
      "nbconvert_exporter": "python",
      "pygments_lexer": "ipython3",
      "version": "3.8"
    }
  },
  "nbformat_minor": 5,
  "nbformat": 4,
  "cells": [
    {
      "id": "c7d4de9a-e7dc-4cf3-bd8d-7da869ceb9ac",
      "cell_type": "markdown",
      "source": "# Hermitian Matrices, Unitary Matrices and Tensor Product",
      "metadata": {}
    },
    {
      "id": "007db568-62bf-4098-a52f-281b41db3012",
      "cell_type": "markdown",
      "source": "\n# Understanding Complex Hermitian and Unitary Matrices\n\nThis tutorial delves into two pivotal concepts in quantum computing and linear algebra: complex Hermitian and Unitary matrices. Both play critical roles in quantum mechanics and quantum computing, underpinning the behavior of quantum systems and the operations performed on them.\n\n## Objectives\n- Define and explore the properties of complex Hermitian matrices.\n- Understand and implement complex Unitary matrices in Python.\n- Highlight their significance and applications in quantum computing.\n\nPrepare to enhance your mathematical toolkit with these foundational concepts, illustrated with Python examples for a hands-on learning experience.\n",
      "metadata": {}
    },
    {
      "id": "172b4789-ccc2-41be-ae1b-fff456a76c41",
      "cell_type": "markdown",
      "source": "\n## Complex Hermitian Matrices\n\nA Hermitian matrix, or self-adjoint matrix, is a square matrix that is equal to its own conjugate transpose. This property makes it a natural representation of observable quantities in quantum mechanics.\n\n### Properties\n- The eigenvalues of a Hermitian matrix are always real.\n- The eigenvectors of a Hermitian matrix corresponding to different eigenvalues are orthogonal.\n- Hermitian matrices are extensively used in quantum mechanics to describe physical observables.\n\n### Python Example: Defining a Hermitian Matrix\n",
      "metadata": {}
    },
    {
      "id": "be7b7f14-c501-4fd9-a482-73f4acf8bfd9",
      "cell_type": "code",
      "source": "\nimport numpy as np\n\n# Define a complex Hermitian matrix\nhermitian_matrix = np.array([[2+0j, 2-1j], [2+1j, 3+0j]])\n\n# Check if the matrix is Hermitian\nis_hermitian = np.allclose(hermitian_matrix, hermitian_matrix.conj().T)\n\nis_hermitian, hermitian_matrix\n",
      "metadata": {},
      "outputs": [],
      "execution_count": null
    },
    {
      "id": "6c6e41c4-7edb-46e0-b5a3-9dc381541312",
      "cell_type": "markdown",
      "source": "\n## Complex Unitary Matrices\n\nA Unitary matrix is a square matrix whose conjugate transpose is also its inverse. Unitary matrices preserve the inner product, making them essential for describing quantum gates and evolution in quantum computing.\n\n### Properties\n- Preserves the norm of vectors, hence preserving quantum states during transformations.\n- The determinant of a Unitary matrix has an absolute value of 1.\n- Used to represent reversible quantum operations and time evolution in quantum systems.\n\n### Python Example: Defining a Unitary Matrix\n",
      "metadata": {}
    },
    {
      "id": "72119954-9647-4f66-93e9-c014c05bb48c",
      "cell_type": "code",
      "source": "\n# Define a complex Unitary matrix\nunitary_matrix = np.array([[1/np.sqrt(2), 1/np.sqrt(2)], [1/np.sqrt(2)*1j, -1/np.sqrt(2)*1j]])\n\n# Check if the matrix is Unitary\n# np.eye(2) returns the identity of size 2x2\nis_unitary = np.allclose(np.dot(unitary_matrix, unitary_matrix.conj().T), np.eye(2))\n\nis_unitary, unitary_matrix\n",
      "metadata": {
        "trusted": true
      },
      "outputs": [
        {
          "execution_count": 8,
          "output_type": "execute_result",
          "data": {
            "text/plain": "(True,\n array([[ 0.70710678+0.j        ,  0.70710678+0.j        ],\n        [ 0.        +0.70710678j, -0.        -0.70710678j]]))"
          },
          "metadata": {}
        }
      ],
      "execution_count": 8
    },
    {
      "id": "85750bcf-34ab-49ab-9163-509b29e719c9",
      "cell_type": "markdown",
      "source": "# Tensor product",
      "metadata": {}
    },
    {
      "id": "b85487ee-1d19-47ab-a0a7-e05c8b758b13",
      "cell_type": "markdown",
      "source": "\n## Tensor Product for Complex Vectors\n\nThe tensor product of two complex vectors creates a new vector in a higher-dimensional space, allowing us to combine quantum states in quantum computing.\n\n### Example\n",
      "metadata": {}
    },
    {
      "id": "c4619aad-e04f-4787-a8ff-8e324f13b816",
      "cell_type": "code",
      "source": "\nimport numpy as np\n\n# Define two complex vectors for the tensor product\nv1 = np.array([1+2j, 3+4j])\nv2 = np.array([5+6j, 7+8j])\n\n# Calculate the tensor product\ntensor_product_v = np.kron(v1, v2)\n\ntensor_product_v\n",
      "metadata": {},
      "outputs": [],
      "execution_count": null
    },
    {
      "id": "aa89e379-8ce8-493d-8b0e-6461a7fc1325",
      "cell_type": "markdown",
      "source": "\n## Tensor Product for Complex Matrices\n\nThe tensor product for matrices combines individual matrices into a larger matrix, crucial for representing multiple qubit systems in quantum computing.\n\n### Example\n",
      "metadata": {}
    },
    {
      "id": "c558e2f2-8ecf-466a-8fb4-469566157419",
      "cell_type": "code",
      "source": "\n# Define two complex matrices for the tensor product\nM1 = np.array([[1+2j, 3+4j], [5+6j, 7+8j]])\nM2 = np.array([[9+10j, 11+12j], [13+14j, 15+16j]])\n\n# Calculate the tensor product\ntensor_product_m = np.kron(M1, M2)\n\ntensor_product_m\n",
      "metadata": {},
      "outputs": [],
      "execution_count": null
    },
    {
      "id": "ffa82608-ea8c-4bc7-b357-a8552a649f0c",
      "cell_type": "markdown",
      "source": "# Exercises on Complex Vector and Matrix Operations\n\nThis set of exercises is designed to test your understanding of various concepts related to complex vector and matrix operations, which are foundational in quantum computing. Each exercise presents a concrete case for you to apply what you've learned about Hermitian matrices, Unitary matrices, and tensor products.\n\nNOTE: VERIFY YOUR COMPUTATIONS IN PAPER AND IN THE COMPUTER.\n",
      "metadata": {}
    },
    {
      "id": "84586b43-20af-47d7-b89f-7fd3b71896fe",
      "cell_type": "markdown",
      "source": "## Exercise 1: Complex Hermitian Matrices\n\nConsider the matrix:\n\n$$ H = \\begin{bmatrix} 3 & 2+i \\\\ 2-i & 1 \\end{bmatrix} $$\n\n- Verify if $ H $ is a Hermitian matrix.\n- If it is, find its eigenvalues.\n\n### Respuesta \nComo se ve en la salida del código, H es una matriz hermitiana.\n$$ Eigenvalues = \\begin{bmatrix} 4.44948974-6.70989255e-17i & -0.44948974+1.15877743e-17i \\end{bmatrix} $$",
      "metadata": {}
    },
    {
      "id": "65b439d4-4d41-49ce-babd-4edbd33462b1",
      "cell_type": "code",
      "source": "import numpy as np\nmatrix = np.array([[3, 2+1j], [2-1j, 1]])\nis_hermitian = np.allclose(matrix, matrix.conj().T)\neigenvalues, eigenvectors = np.linalg.eig(matrix)\nprint(\"Es hemitiana = \", is_hermitian)\nprint(\"Eigenvalues = \",eigenvalues)",
      "metadata": {
        "trusted": true
      },
      "outputs": [
        {
          "name": "stdout",
          "text": "Es hemitiana =  True\nEigenvalues =  [ 4.44948974-6.70989255e-17j -0.44948974+1.15877743e-17j]\n",
          "output_type": "stream"
        }
      ],
      "execution_count": 2
    },
    {
      "id": "bc5d8582-426a-482f-a745-b140012f94f2",
      "cell_type": "markdown",
      "source": "## Exercise 2: Complex Unitary Matrices\n\nConsider the matrix:\n\n$$ U = \\frac{1}{\\sqrt{2}}\\begin{bmatrix} 1 & i \\\\ i & 1 \\end{bmatrix} $$\n\n## Respuesta\n- Verify if $ U $ is a Unitary matrix.\n\nComo se ve en la salida del código, U es una matriz unitaria.\n- Compute $ UU^\\dagger $ to confirm its Unitarity, where $ U^\\dagger $ denotes the conjugate transpose of $ U $.\n\nComo se ve en la salida del código, U es una matriz unitaria, ya que obtuvimos la matriz identidad después de computar $ UU^\\dagger $.",
      "metadata": {}
    },
    {
      "id": "d1c4b36a-ee5a-4065-9d1c-ed7d4677402e",
      "cell_type": "code",
      "source": "import numpy as np\nm = np.array([[1, 1j], [1j, 1]])\nscalar = 1 / np.sqrt(2)\nprint(\"m = \", m)\nprint(\"scalar = \", scalar)\nmult = m * scalar\nprint(\"m * scalar = \", mult)\n\n# Check if the matrix is Unitary, conjugada traspuesta es igual a la inversa de la matriz\n# np.eye(2) returns the identity of size 2x2\nis_unitary = np.allclose(np.dot(mult, mult.conj().T), np.eye(2))\nis_unitary",
      "metadata": {
        "trusted": true
      },
      "outputs": [
        {
          "name": "stdout",
          "text": "m =  [[1.+0.j 0.+1.j]\n [0.+1.j 1.+0.j]]\nscalar =  0.7071067811865475\nm * scalar =  [[0.70710678+0.j         0.        +0.70710678j]\n [0.        +0.70710678j 0.70710678+0.j        ]]\n",
          "output_type": "stream"
        },
        {
          "execution_count": 7,
          "output_type": "execute_result",
          "data": {
            "text/plain": "True"
          },
          "metadata": {}
        }
      ],
      "execution_count": 7
    },
    {
      "id": "251f7988-e1b1-447e-b1fa-f69d154ee229",
      "cell_type": "code",
      "source": "import numpy as np\nm = np.array([[1, 1j], [1j, 1]])\nscalar = 1 / np.sqrt(2)\nmult = m * scalar\nadjunct = mult.T.conj()\nresult = np.dot(mult, adjunct)\n#Identity matrix\nprint(\"Result = \", result)",
      "metadata": {
        "trusted": true
      },
      "outputs": [
        {
          "name": "stdout",
          "text": "Result =  [[1.+0.j 0.+0.j]\n [0.+0.j 1.+0.j]]\n",
          "output_type": "stream"
        }
      ],
      "execution_count": 14
    },
    {
      "id": "72bd3205-97c5-4d8d-b2cb-1f97ee1ea09f",
      "cell_type": "markdown",
      "source": "\n## Exercise 3: Tensor Product for Complex Vectors\n\nGiven the complex vectors:\n\n$$ \\mathbf{v} = \\begin{bmatrix} 1+i \\\\ 2-i \\end{bmatrix}, \\quad \\mathbf{w} = \\begin{bmatrix} 1-2i \\\\ 3 \\end{bmatrix} $$\n\nCalculate the tensor product $ \\mathbf{v} \\otimes \\mathbf{w} $.\n## Respuesta\nComo se ve en la salida del código la respuesta correcta es:\n$$ \\mathbf{v} \\otimes \\mathbf{w} = \\begin{bmatrix} 3-i \\\\ 3+3i \\\\ -5i \\\\ 6-3i \\end{bmatrix} $$",
      "metadata": {}
    },
    {
      "id": "eaac6474-0289-49a2-9907-28fa1058c081",
      "cell_type": "code",
      "source": "import numpy as np\n\n# Define two complex vectors for the tensor product\nv = np.array([[1+1j], [2-1j]])\nw = np.array([[1-2j], [3]])\n\n# Calculate the tensor product\ntensor_product_v = np.kron(v, w)\nprint(\"Producto tensor = \", tensor_product_v)",
      "metadata": {
        "trusted": true
      },
      "outputs": [
        {
          "name": "stdout",
          "text": "Producto tensor =  [[3.-1.j]\n [3.+3.j]\n [0.-5.j]\n [6.-3.j]]\n",
          "output_type": "stream"
        }
      ],
      "execution_count": 15
    },
    {
      "id": "d3caa60b-8539-4e4f-a03a-bcd26f0a0eeb",
      "cell_type": "markdown",
      "source": "## Exercise 4: Tensor Product for Complex Matrices\n\nGiven the matrices:\n\n$$ M_1 = \\begin{bmatrix} 0 & 1 \\\\ 1 & 0 \\end{bmatrix}, \\quad M_2 = \\begin{bmatrix} i & 0 \\\\ 0 & -i \\end{bmatrix} $$\n\nCalculate the tensor product $ M_1 \\otimes M_2 $.\n$$  M_1 \\otimes M_2  = \\begin{bmatrix} 0 & 0 & i & 0 \\\\ 0 & 0 & 0 & -i \\\\ i & 0 & 0 & 0 \\\\ 0 & -i & 0 & 0 \\end{bmatrix} $$",
      "metadata": {}
    },
    {
      "id": "e8f26f0e-85c7-4b8d-b382-a8378fdb586b",
      "cell_type": "code",
      "source": "import numpy as np\n\n# Define two complex vectors for the tensor product\nv = np.array([[0, 1], [1, 0]])\nw = np.array([[1j, 0], [0, -1j]])\n\n# Calculate the tensor product\ntensor_product_v = np.kron(v, w)\nprint(\"Producto tensor = \", tensor_product_v)",
      "metadata": {
        "trusted": true
      },
      "outputs": [
        {
          "name": "stdout",
          "text": "Producto tensor =  [[0.+0.j 0.+0.j 0.+1.j 0.+0.j]\n [0.+0.j 0.-0.j 0.+0.j 0.-1.j]\n [0.+1.j 0.+0.j 0.+0.j 0.+0.j]\n [0.+0.j 0.-1.j 0.+0.j 0.-0.j]]\n",
          "output_type": "stream"
        }
      ],
      "execution_count": 16
    },
    {
      "id": "e4c2fadc-3b29-4a64-ade1-3f7a899563c5",
      "cell_type": "markdown",
      "source": "\n## Exercise 5: Modelling quantum computations with vectors and matrices\n\nUsing matrices and vectors, implement a model of the Mach/Zehnder interferometer.\n\n![Mach-Zehnder interferometer](images/Mach-Zehnder-Interferometer.png)\n## Respuesta \nComo se ve en la salida del código, el resultado del modelo es: \n$$ \\begin{bmatrix} 1 \\\\ 0 \\end{bmatrix} $$ ",
      "metadata": {}
    },
    {
      "id": "cb37581d-bbfc-4e6d-a0bb-965a7b0a4f7f",
      "cell_type": "code",
      "source": "import numpy as np\nh = (1/(np.sqrt(2)))*(np.array([[1, 1],[1, -1]]))\nx = np.array([[0, 1],[1, 0]])\ny0 = np.array([[1],[0]])\ny1 = np.dot(h, y0)\ny2 = np.dot(x, y1)\ny3 = np.dot(h, y2)\nprint(\"y1 = \", y1)\nprint(\"y2 = \", y2)\nprint(\"y3 = \", y3)",
      "metadata": {
        "trusted": true
      },
      "outputs": [
        {
          "name": "stdout",
          "text": "y1 =  [[0.70710678]\n [0.70710678]]\ny2 =  [[0.70710678]\n [0.70710678]]\ny3 =  [[1.]\n [0.]]\n",
          "output_type": "stream"
        }
      ],
      "execution_count": 13
    },
    {
      "id": "46ff2c07-d6c9-44a2-a582-d82d2de384a2",
      "cell_type": "markdown",
      "source": "## Exercise 6: Composing quantum systems \n\nUsing matrices and vectors, implement a model of the following circuit.\n\n![Mach-Zehnder interferometer](images/Deutsch-Algorithm.png)\n\nUse the following MAtrix for $U_f$:\n\n![Mach-Zehnder interferometer](images/ExampleUf.png)\n\n## Respuesta \nComo se ve en la salida del código, el resultado del modelo es: \n$$ \\frac{1}{\\sqrt{2}}\\begin{bmatrix} 0 \\\\ 0 \\\\ -1 \\\\ 1 \\end{bmatrix} $$",
      "metadata": {}
    },
    {
      "id": "8988a78e-6e6d-4df0-a440-f41381b2f902",
      "cell_type": "code",
      "source": "import numpy as np\nh = np.array(1/(np.sqrt(2)))*(np.array([[1, 1],[1, -1]]))\nuf = np.array([[0, 1, 0, 0], [1, 0, 0, 0], [0, 0, 1, 0], [0, 0, 0, 1]])\ni = np.array([[1,0], [0, 1]])\ny0 = np.kron([[1], [0]], [[0], [1]]) \ny1 = np.dot((np.kron(h, h)), y0)\ny2 = np.dot(uf, y1)\ny3 = np.dot((np.kron(h, i)), y2)\nprint(\"y0 = \", y0)\nprint(\"y1 = \", y1)\nprint(\"y2 = \", y2)\nprint(\"y3 = \", y3)",
      "metadata": {
        "trusted": true
      },
      "outputs": [
        {
          "name": "stdout",
          "text": "y0 =  [[0]\n [1]\n [0]\n [0]]\ny1 =  [[ 0.5]\n [-0.5]\n [ 0.5]\n [-0.5]]\ny2 =  [[-0.5]\n [ 0.5]\n [ 0.5]\n [-0.5]]\ny3 =  [[ 0.        ]\n [ 0.        ]\n [-0.70710678]\n [ 0.70710678]]\n",
          "output_type": "stream"
        }
      ],
      "execution_count": 15
    },
    {
      "id": "d98aae21-a350-47d4-ae25-8b865870e3df",
      "cell_type": "code",
      "source": "",
      "metadata": {
        "trusted": true
      },
      "outputs": [],
      "execution_count": null
    }
  ]
}