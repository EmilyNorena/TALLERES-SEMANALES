{
  "metadata": {
    "kernelspec": {
      "name": "python",
      "display_name": "Python (Pyodide)",
      "language": "python"
    },
    "language_info": {
      "codemirror_mode": {
        "name": "python",
        "version": 3
      },
      "file_extension": ".py",
      "mimetype": "text/x-python",
      "name": "python",
      "nbconvert_exporter": "python",
      "pygments_lexer": "ipython3",
      "version": "3.8"
    }
  },
  "nbformat_minor": 5,
  "nbformat": 4,
  "cells": [
    {
      "id": "a07bd584",
      "cell_type": "markdown",
      "source": "# Theory of Complex Vector Spaces\nComplex vector spaces extend the idea of real vector spaces by allowing vectors to have complex numbers as their components. In these spaces, vectors can be added together and multiplied by complex scalars to produce new vectors. Key operations in complex vector spaces include vector addition, scalar multiplication, vector negation, and complex conjugation.",
      "metadata": {}
    },
    {
      "id": "f43fc972-23ab-4d81-aa26-c51325dac8f3",
      "cell_type": "markdown",
      "source": "# Creating complex column vectors",
      "metadata": {}
    },
    {
      "id": "029f08ba-1cdc-4928-9631-f62c51ab7aa5",
      "cell_type": "code",
      "source": "import numpy as np\n\n# Define a 2x2 square matrix\nmatrix = np.array([[2, 3],\n                   [1, 4]])\n\n# Define a vector of size 2\nvector = np.array([5, 6])\n\n# Multiply the matrix by the vector\nresult = np.dot(matrix, vector)\n\n# Display the result\nprint(\"Matrix:\\n\", matrix)\nprint(\"\\nVector:\\n\", vector)\nprint(\"\\nResult of multiplication:\\n\", result)\n",
      "metadata": {},
      "outputs": [],
      "execution_count": null
    },
    {
      "id": "975c2284",
      "cell_type": "markdown",
      "source": "## Manipulating Complex Column Vectors using NumPy\nHere we demonstrate how to manipulate complex column vectors using NumPy, including operations like sum, negation, multiplication by a scalar, transpose, adjunct, and conjugate.",
      "metadata": {}
    },
    {
      "id": "e8058abe",
      "cell_type": "code",
      "source": "\nimport numpy as np\n\n# Define two complex column vectors\nv1 = np.array([[2+3j], [5-4j], [1+1j]])\nv2 = np.array([[1-1j], [3+2j], [4-4j]])\n\n# Sum\nsum_v = v1 + v2\n\n# Negation\nneg_v1 = -v1\n\n# Multiplication by a scalar\nscalar = 2 + 1j\nmult_v1 = v1 * scalar\n\n# Transpose\ntranspose_v1 = v1.T\n\n# Adjunct (Conjugate transpose)\nadjunct_v1 = v1.T.conj()\n\n# Conjugate\nconjugate_v1 = np.conjugate(v1)\n\n(sum_v, neg_v1, mult_v1, transpose_v1, adjunct_v1, conjugate_v1)\n",
      "metadata": {},
      "outputs": [
        {
          "data": {
            "text/plain": [
              "(array([[3.+2.j],\n",
              "        [8.-2.j],\n",
              "        [5.-3.j]]),\n",
              " array([[-2.-3.j],\n",
              "        [-5.+4.j],\n",
              "        [-1.-1.j]]),\n",
              " array([[ 1.+8.j],\n",
              "        [14.-3.j],\n",
              "        [ 1.+3.j]]),\n",
              " array([[2.+3.j, 5.-4.j, 1.+1.j]]),\n",
              " array([[2.-3.j, 5.+4.j, 1.-1.j]]),\n",
              " array([[2.-3.j],\n",
              "        [5.+4.j],\n",
              "        [1.-1.j]]))"
            ]
          },
          "execution_count": 12,
          "metadata": {},
          "output_type": "execute_result"
        }
      ],
      "execution_count": 12
    },
    {
      "id": "995ae5fc",
      "cell_type": "markdown",
      "source": "# Theory of Vector Spaces using Matrices\nIn the context of matrices, vector spaces can be defined where each vector is a matrix of a particular size. Operations on these matrix-vector spaces include matrix addition, scalar multiplication, matrix negation, transpose, adjunct, and conjugate. In this section, we focus on square matrices of size 3x3.",
      "metadata": {}
    },
    {
      "id": "9385c1f0",
      "cell_type": "markdown",
      "source": "## Manipulating Square Matrices using NumPy\nExamples of how to manipulate 3x3 square matrices using NumPy, showing operations such as sum, negation, multiplication by a scalar, conjugate, transpose, and adjunct.",
      "metadata": {}
    },
    {
      "id": "b81ecc57",
      "cell_type": "code",
      "source": "\n# Define two 3x3 complex matrices\nm1 = np.array([[2+3j, 4-1j, 0], \n               [1+1j, 3+3j, 5], \n               [4, 6-2j, 1-1j]])\nm2 = np.array([[1, 2+1j, 3-3j], \n               [0, -1+2j, 1-2j], \n               [3+3j, 2, 4+4j]])\n\n# Sum\nsum_m = m1 + m2\n\n# Negation\nneg_m1 = -m1\n\n# Multiplication by a scalar\nscalar = 0.5 + 0.5j\nmult_m1 = m1 * scalar\n\n# Conjugate\nconjugate_m1 = np.conjugate(m1)\n\n# Transpose\ntranspose_m1 = m1.T\n\n# Adjunct (Conjugate transpose)\nadjunct_m1 = m1.T.conj()\n\n(sum_m, neg_m1, mult_m1, conjugate_m1, transpose_m1, adjunct_m1)\n",
      "metadata": {
        "trusted": true
      },
      "outputs": [
        {
          "execution_count": 4,
          "output_type": "execute_result",
          "data": {
            "text/plain": "(array([[3.+3.j, 6.+0.j, 3.-3.j],\n        [1.+1.j, 2.+5.j, 6.-2.j],\n        [7.+3.j, 8.-2.j, 5.+3.j]]),\n array([[-2.-3.j, -4.+1.j, -0.-0.j],\n        [-1.-1.j, -3.-3.j, -5.-0.j],\n        [-4.-0.j, -6.+2.j, -1.+1.j]]),\n array([[-0.5+2.5j,  2.5+1.5j,  0. +0.j ],\n        [ 0. +1.j ,  0. +3.j ,  2.5+2.5j],\n        [ 2. +2.j ,  4. +2.j ,  1. +0.j ]]),\n array([[2.-3.j, 4.+1.j, 0.-0.j],\n        [1.-1.j, 3.-3.j, 5.-0.j],\n        [4.-0.j, 6.+2.j, 1.+1.j]]),\n array([[2.+3.j, 1.+1.j, 4.+0.j],\n        [4.-1.j, 3.+3.j, 6.-2.j],\n        [0.+0.j, 5.+0.j, 1.-1.j]]),\n array([[2.-3.j, 1.-1.j, 4.-0.j],\n        [4.+1.j, 3.-3.j, 6.+2.j],\n        [0.-0.j, 5.-0.j, 1.+1.j]]))"
          },
          "metadata": {}
        }
      ],
      "execution_count": 4
    },
    {
      "id": "ed909545-8a5c-4cca-85f7-48688b597598",
      "cell_type": "markdown",
      "source": "## Checking the Dimension of a Matrix\nWe can check the dimension of a matrix using the `.shape` attribute.",
      "metadata": {}
    },
    {
      "id": "0930dc10-af6d-427f-bbcb-75bfaf051db5",
      "cell_type": "code",
      "source": "# Checking the dimension of matrix1\nm1.shape",
      "metadata": {},
      "outputs": [],
      "execution_count": null
    },
    {
      "id": "b3fe896b",
      "cell_type": "markdown",
      "source": "## Action of a Matrix on a Vector\nFinally, examples of how to use Python to multiply a 3x3 square matrix by a 3x1 column vector.",
      "metadata": {}
    },
    {
      "id": "e514d047",
      "cell_type": "code",
      "source": "\n# Multiplying a 3x3 matrix by a 3x1 vector\nresult = np.dot(m1, v1)\nresult\n",
      "metadata": {},
      "outputs": [],
      "execution_count": null
    },
    {
      "id": "5adf9d8a-af43-4074-ab1a-3cabdc4accff",
      "cell_type": "markdown",
      "source": "# Exercises on Complex Vectors and Matrices with Concrete Cases\n\nThis set of exercises focuses on operations with complex column vectors and complex square matrices, including concrete cases with vectors and matrices written in LaTeX format.\n\n\n## Instructions\nFor each exercise, ensure to display both the input (vectors/matrices) and the result of the operation.Use NumPy for these exercises to practice handling complex numbers and matrix operations in Python.\n",
      "metadata": {}
    },
    {
      "id": "d357731c-86cb-4faa-a8fc-1097966e7a4a",
      "cell_type": "markdown",
      "source": "# Respuestas\n\n### Exercise 1: Sum of Two Complex Vectors\nGiven two complex vectors \n$$ v1 = \\begin{bmatrix} 1 + 2i \\\\ 3 - i \\end{bmatrix} $$ \nand \n$$ v2 = \\begin{bmatrix} 2 - i \\\\ 4 + 2i \\end{bmatrix} $$, \nfind their sum.\n\n### Respuesta\nComo se ve en la salida del código la respuesta correcta es:\n$$ v1 + v2 = \\begin{bmatrix} 3 + 1i \\\\ 7 + 1i \\end{bmatrix} $$.\n\n",
      "metadata": {}
    },
    {
      "id": "8ad1a0b6-517d-4227-b6e3-bdb4195d8f71",
      "cell_type": "code",
      "source": "import numpy as np\nv1 = np.array([[1+2j], [3-1j]])\nv2 = np.array([[2-1j], [4+2j]])\n\nprint(\"v1 = \", v1)\nprint(\"v2 = \", v2)\n\nsuma = v1 + v2\n\nprint(\"v1 + v2 = \", suma)",
      "metadata": {
        "trusted": true
      },
      "outputs": [
        {
          "name": "stdout",
          "text": "v1 =  [[1.+2.j]\n [3.-1.j]]\nv2 =  [[2.-1.j]\n [4.+2.j]]\nv1 + v2 =  [[3.+1.j]\n [7.+1.j]]\n",
          "output_type": "stream"
        }
      ],
      "execution_count": 19
    },
    {
      "id": "5c752000-e672-4c02-b84a-b879697273d7",
      "cell_type": "markdown",
      "source": "### Exercise 2: Negation of a Complex Vector\nGiven a complex vector \n$$ v = \\begin{bmatrix} 2 + 3i \\\\ 1 - 2i \\end{bmatrix} $$, \nfind its negation.\n\n### Respuesta\nComo se ve en la salida del código la respuesta correcta es:\n$$ -v = \\begin{bmatrix} -2 - 3i \\\\ -1 + 2i \\end{bmatrix} $$.",
      "metadata": {}
    },
    {
      "id": "88cbf54c-d59c-416a-bdf5-bde59d460c65",
      "cell_type": "code",
      "source": "import numpy as np\nv = np.array([[2+3j], [1-2j]])\n\nprint(\"v= \", v)\n\nnegacion = -v\n\nprint(\"-v = \", negacion)",
      "metadata": {
        "trusted": true
      },
      "outputs": [
        {
          "name": "stdout",
          "text": "v=  [[2.+3.j]\n [1.-2.j]]\n-v =  [[-2.-3.j]\n [-1.+2.j]]\n",
          "output_type": "stream"
        }
      ],
      "execution_count": 5
    },
    {
      "id": "b966950f-15f9-4c95-8967-0d2a7372c1c2",
      "cell_type": "markdown",
      "source": "### Exercise 3: Multiplication of a Complex Vector by a Scalar\nMultiply the complex vector \n$$ v = \\begin{bmatrix} 1 - i \\\\ 2 + 2i \\end{bmatrix} $$ \nby the complex scalar $$ 3 + i $$.\n\n### Respuesta\nComo se ve en la salida del código la respuesta correcta es:\n$$ v * scalar = \\begin{bmatrix} 4- 2i \\\\ 4 + 8i \\end{bmatrix} $$.",
      "metadata": {}
    },
    {
      "id": "41748f02-4e09-4e8f-a285-d774dc392594",
      "cell_type": "code",
      "source": "import numpy as np\nv1 = np.array([[1-1j], [2+2j]])\nscalar = 3 + 1j\nprint(\"v = \", v1)\nprint(\"scalar = \", scalar)\n\nmult = v1 * scalar\n\nprint(\"v * scalar = \", mult)",
      "metadata": {
        "trusted": true
      },
      "outputs": [
        {
          "name": "stdout",
          "text": "v =  [[1.-1.j]\n [2.+2.j]]\nscalar =  (3+1j)\nv * scalar =  [[4.-2.j]\n [4.+8.j]]\n",
          "output_type": "stream"
        }
      ],
      "execution_count": 1
    },
    {
      "id": "f6d60f1f-bdef-4573-977f-727fd62d2df4",
      "cell_type": "markdown",
      "source": "### Exercise 4: Transpose of a Complex Vector\nFind the transpose of the complex vector \n$$ v = \\begin{bmatrix} 2 - i \\\\ 3 + 4i \\end{bmatrix} $$.\n\n### Respuesta\nComo se ve en la salida del código la respuesta correcta es:\n$$ transponse = \\begin{bmatrix} 2 - i && 3 + 4i \\end{bmatrix} $$.",
      "metadata": {}
    },
    {
      "id": "2d1d0cc8-f49d-44a8-9449-6c8046254861",
      "cell_type": "code",
      "source": "v1 = np.array([[2-1j], [3+4j]])\nprint(\"v1 = \", v1)\n\ntranspose_v1 = v1.T\n\nprint(\"Transpuesta =\", transpose_v1)\n",
      "metadata": {
        "trusted": true
      },
      "outputs": [
        {
          "name": "stdout",
          "text": "v1 =  [[2.-1.j]\n [3.+4.j]]\nTranspuesta = [[2.-1.j 3.+4.j]]\n",
          "output_type": "stream"
        }
      ],
      "execution_count": 20
    },
    {
      "id": "aa18ca73-6a72-4948-bd86-1d90d60dcec1",
      "cell_type": "markdown",
      "source": "### Exercise 5: Conjugate of a Complex Vector\nCompute the conjugate of the complex vector \n$$ v = \\begin{bmatrix} 1 + i \\\\ 2 - 3i \\end{bmatrix} $$.\n\n### Respuesta\nComo se ve en la salida del \ncódigo la respuesta correcta es:\n$$ conjugate = \\begin{bmatrix} 1 - i \\\\ 2 + 3i \\end{bmatrix} $$.",
      "metadata": {}
    },
    {
      "id": "4a122e4e-4518-4b3b-a663-704839afd3f7",
      "cell_type": "code",
      "source": "v1 = np.array([[1+1j], [2-3j]])\nprint(\"v = \", v1)\nconjugate_v1 = np.conjugate(v1)\nprint(\"Conjugado =\", conjugate_v1)\n",
      "metadata": {
        "trusted": true
      },
      "outputs": [
        {
          "name": "stdout",
          "text": "v =  [[1.+1.j]\n [2.-3.j]]\nConjugado = [[1.-1.j]\n [2.+3.j]]\n",
          "output_type": "stream"
        }
      ],
      "execution_count": 22
    },
    {
      "id": "269a1f75-00e9-45ae-bedb-c657e4f5060f",
      "cell_type": "markdown",
      "source": "### Exercise 6: Adjunct (Conjugate Transpose) of a Complex Vector\nFind the adjunct (or conjugate transpose) of the complex vector \n$$ v = \\begin{bmatrix} 1 - 2i \\\\ 3 + i \\end{bmatrix} $$.\n\n### Respuesta\nComo se ve en la salida del \ncódigo la respuesta correcta es:\n$$ adjunct = \\begin{bmatrix} 1 + 2i && 3 - i \\end{bmatrix} $$.",
      "metadata": {}
    },
    {
      "id": "27311ddb-d280-4686-8d2b-060da5b15912",
      "cell_type": "code",
      "source": "import numpy as np\nv1 = np.array([[1-2j], [3+1j]])\nprint(\"m = \", v1)\nadjunct1 = v1.T.conj()\nprint(\"Adjunta =\", adjunct1)",
      "metadata": {
        "trusted": true
      },
      "outputs": [
        {
          "name": "stdout",
          "text": "m =  [[1.-2.j]\n [3.+1.j]]\nAdjunta = [[1.+2.j 3.-1.j]]\n",
          "output_type": "stream"
        }
      ],
      "execution_count": 6
    },
    {
      "id": "6b5ac1b0-b00f-42b5-904b-a075ee03dd08",
      "cell_type": "markdown",
      "source": "### Exercise 7: Sum of Two Complex Matrices\nGiven two complex matrices \n$$ m1 = \\begin{bmatrix} 1 + i & 2 - i \\\\ 3 + 2i & 4 \\end{bmatrix} $$ \nand \n$$ m2 = \\begin{bmatrix} 2 - 3i & 1 \\\\ i & 2 + 2i \\end{bmatrix} $$, \ncalculate their sum.\n\n### Respuesta\nComo se ve en la salida del \ncódigo la respuesta correcta es:\n$$ m1 + m2 = \\begin{bmatrix} 3 - 2i & 3 - i \\\\ 3 + 3i & 6 + 2i \\end{bmatrix} $$.",
      "metadata": {}
    },
    {
      "id": "6c521b97-e3c6-4ec8-bafe-88b4f642a09c",
      "cell_type": "code",
      "source": "m1 = np.array([[1+1j, 2-1j], [3+2j, 4]])\nm2 = np.array([[2-3j, 1], [1j, 2+2j]])\nprint(\"m1 = \", m1)\nprint(\"m2 = \", m2)\n\nsuma = m1 + m2\nprint(\"m1 + m2 = \", suma)",
      "metadata": {
        "trusted": true
      },
      "outputs": [
        {
          "name": "stdout",
          "text": "m1 =  [[1.+1.j 2.-1.j]\n [3.+2.j 4.+0.j]]\nm2 =  [[2.-3.j 1.+0.j]\n [0.+1.j 2.+2.j]]\nm1 + m2 =  [[3.-2.j 3.-1.j]\n [3.+3.j 6.+2.j]]\n",
          "output_type": "stream"
        }
      ],
      "execution_count": 4
    },
    {
      "id": "677fd01d-2f7a-4d8d-9b81-367ea0412ad3",
      "cell_type": "markdown",
      "source": "### Exercise 8: Negation of a Complex Matrix\nFind the negation of the complex matrix \n$$ m = \\begin{bmatrix} 2 + i & 3 \\\\ 1 - i & 2 + 2i \\end{bmatrix} $$.\n### Respuesta\nComo se ve en la salida del código la respuesta correcta es:\n$$ -m = \\begin{bmatrix} -2 - i & -3 \\\\ -1 + i & -2 - 2i \\end{bmatrix} $$.",
      "metadata": {}
    },
    {
      "id": "0738b3cf-f8ab-4e7a-8e50-13ba2e85261e",
      "cell_type": "code",
      "source": "m = np.array([[2+1j, 3], [1-1j, 2+2j]])\nprint(\"m = \", m)\n\nnegation = -m\nprint(\"-m = \", negation)",
      "metadata": {
        "trusted": true
      },
      "outputs": [
        {
          "name": "stdout",
          "text": "m =  [[2.+1.j 3.+0.j]\n [1.-1.j 2.+2.j]]\n-m =  [[-2.-1.j -3.-0.j]\n [-1.+1.j -2.-2.j]]\n",
          "output_type": "stream"
        }
      ],
      "execution_count": 4
    },
    {
      "id": "15d78e5e-c765-458f-b7ed-165c9b90f737",
      "cell_type": "markdown",
      "source": "### Exercise 9: Multiplication of a Complex Matrix by a Scalar\nMultiply the complex matrix \n$$ m = \\begin{bmatrix} 1 - i & 2 \\\\ 3 + i & 4 - 2i \\end{bmatrix} $$ \nby the complex scalar $$ 2 + 3i $$.\n### Respuesta\nComo se ve en la salida del código la respuesta correcta es:\n$$ m * scalar = \\begin{bmatrix} 5 + i & 4 + 6i \\\\ 3 + 11i & 14 + 8i \\end{bmatrix} $$.",
      "metadata": {}
    },
    {
      "id": "1d37d129-26a1-4085-b14b-c71b6784b99d",
      "cell_type": "code",
      "source": "import numpy as np\nm = np.array([[1-1j, 2], [3+1j, 4-2j]])\nscalar = 2 + 3j\nprint(\"m = \", m)\nprint(\"scalar = \", scalar)\n\nmult = m * scalar\n\nprint(\"m * scalar = \", mult)",
      "metadata": {
        "trusted": true
      },
      "outputs": [
        {
          "name": "stdout",
          "text": "m =  [[1.-1.j 2.+0.j]\n [3.+1.j 4.-2.j]]\nscalar =  (2+3j)\nm * scalar =  [[ 5. +1.j  4. +6.j]\n [ 3.+11.j 14. +8.j]]\n",
          "output_type": "stream"
        }
      ],
      "execution_count": 5
    },
    {
      "id": "2ccff084-6b13-4b26-9943-98842b943f6f",
      "cell_type": "markdown",
      "source": "### Exercise 10: Conjugate of a Complex Matrix\nCompute the conjugate of the complex matrix \n$$ m = \\begin{bmatrix} 1 + i & 2 \\\\ 3 - i & 4 + 2i \\end{bmatrix} $$.\n### Respuesta\nComo se ve en la salida del código la respuesta correcta es:\n$$ conjugate = \\begin{bmatrix} 1 - i & 2 \\\\ 3 + 1i & 4 - 2i \\end{bmatrix} $$.",
      "metadata": {}
    },
    {
      "id": "0782df25-a667-4722-bf68-cec1747f111e",
      "cell_type": "code",
      "source": "m = np.array([[1+1j, 2], [3-1j, 4+2j]])\nprint(\"m = \", m)\nconjugate = np.conjugate(m)\nprint(\"Conjugado =\", conjugate)",
      "metadata": {
        "trusted": true
      },
      "outputs": [
        {
          "name": "stdout",
          "text": "m =  [[1.+1.j 2.+0.j]\n [3.-1.j 4.+2.j]]\nConjugado = [[1.-1.j 2.-0.j]\n [3.+1.j 4.-2.j]]\n",
          "output_type": "stream"
        }
      ],
      "execution_count": 10
    },
    {
      "id": "9c3cad9e-666b-41b6-8464-0341bbdd9fe6",
      "cell_type": "markdown",
      "source": "### Exercise 11: Transpose of a Complex Matrix\nFind the transpose of the complex matrix \n$$ m = \\begin{bmatrix} 1 - i & 2 + 2i \\\\ 3 & 4 - i \\end{bmatrix} $$.\n### Respuesta\nComo se ve en la salida del código la respuesta correcta es:\n$$ transpose = \\begin{bmatrix} 1 - i & 3 \\\\ 2 + 2i & 4 - i \\end{bmatrix} $$.",
      "metadata": {}
    },
    {
      "id": "253270b8-223d-447e-9f7d-b1deda1fc243",
      "cell_type": "code",
      "source": "m = np.array([[1-1j, 2+2j], [3, 4-1j]])\nprint(\"m = \", m)\n\ntranspose = m.T\n\nprint(\"Transpuesta =\", transpose)",
      "metadata": {
        "trusted": true
      },
      "outputs": [
        {
          "name": "stdout",
          "text": "m =  [[1.-1.j 2.+2.j]\n [3.+0.j 4.-1.j]]\nTranspuesta = [[1.-1.j 3.+0.j]\n [2.+2.j 4.-1.j]]\n",
          "output_type": "stream"
        }
      ],
      "execution_count": 12
    },
    {
      "id": "2b5725db-d35c-4ff5-a3ae-5bf3529e39c8",
      "cell_type": "markdown",
      "source": "### Exercise 12: Adjunct (Conjugate Transpose) of a Complex Matrix\nCalculate the adjunct (or conjugate transpose) of the complex matrix \n$$ m = \\begin{bmatrix} 1 + 2i & 3 - i \\\\ 4 & 5 + i \\end{bmatrix} $$.\n### Respuesta\nComo se ve en la salida del código la respuesta correcta es:\n$$ adjunct = \\begin{bmatrix} 1 - 2i & 4 \\\\ 3 + 1i & 5 - 1i \\end{bmatrix} $$.",
      "metadata": {}
    },
    {
      "id": "c2fd0804-0bec-4e6e-aa25-9dcf22706118",
      "cell_type": "code",
      "source": "import numpy as np\nv1 = np.array([[1+2j, 3-1j], [4, 5+1j]])\nprint(\"m = \", v1)\nadjunct1 = v1.T.conj()\nprint(\"Adjunta =\", adjunct1)",
      "metadata": {
        "trusted": true
      },
      "outputs": [
        {
          "name": "stdout",
          "text": "m =  [[1.+2.j 3.-1.j]\n [4.+0.j 5.+1.j]]\nAdjunta = [[1.-2.j 4.-0.j]\n [3.+1.j 5.-1.j]]\n",
          "output_type": "stream"
        }
      ],
      "execution_count": 7
    },
    {
      "id": "93abafe5-2c87-479a-9a9f-488cd13b2365",
      "cell_type": "markdown",
      "source": "### Exercise 13: Checking the Dimensions of a Matrix\nDetermine the dimensions of the complex matrix \n$$ m = \\begin{bmatrix} 1 - i & 2 \\\\ 3 + 2i & 4 - i \\end{bmatrix} $$.\n\n### Respuesta\nComo se ve en la salida del código la respuesta correcta es:\n(2,2)",
      "metadata": {}
    },
    {
      "id": "7030d590-78a5-43c0-a7e4-eb5776e7fa69",
      "cell_type": "code",
      "source": "m1 = np.array([[1-1j, 2], [3+2j, 4-1j]])\ndimension = m1.shape\nprint(\"Dimension = \", dimension)",
      "metadata": {
        "trusted": true
      },
      "outputs": [
        {
          "name": "stdout",
          "text": "Dimension =  (2, 2)\n",
          "output_type": "stream"
        }
      ],
      "execution_count": 14
    },
    {
      "id": "9dcf6fe7-6301-42af-96fd-fb653a07ad55",
      "cell_type": "markdown",
      "source": "### Exercise 14: Multiplying a Complex Square Matrix by a Complex Column Vector\nMultiply the complex square matrix \n$$ m = \\begin{bmatrix} 1 + i & 2 - i \\\\ 3 & 4 + i \\end{bmatrix} $$ \nby the complex column vector \n$$ v = \\begin{bmatrix} 2 - i \\\\ 1 + 3i \\end{bmatrix} $$.\n### Respuesta\nComo se ve en la salida del código la respuesta correcta es:\n$$ m * v = \\begin{bmatrix} 8 + 6i \\\\ 7 + 10i \\end{bmatrix} $$.",
      "metadata": {}
    },
    {
      "id": "41645c5f-9dfe-4852-913e-f44c5e234faa",
      "cell_type": "code",
      "source": "matrix = np.array([[1+1j, 2-1j], [3, 4+1j]])\nvector = np.array([[2-1j], [1+3j]])\nresult = np.dot(matrix, vector)\nprint(\"Multiplicacion = \", result)\n",
      "metadata": {
        "trusted": true
      },
      "outputs": [
        {
          "name": "stdout",
          "text": "Multiplicacion =  [[8. +6.j]\n [7.+10.j]]\n",
          "output_type": "stream"
        }
      ],
      "execution_count": 24
    }
  ]
}